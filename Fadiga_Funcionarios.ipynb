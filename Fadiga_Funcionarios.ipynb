{
  "cells": [
    {
      "cell_type": "markdown",
      "source": [
        "<font color='GREY'> Prevendo Esgotamento dos Funcionários no Sistema Financeiro</font>"
      ],
      "metadata": {
        "id": "A1eaRA1fD2PW"
      }
    },
    {
      "cell_type": "markdown",
      "source": [
        "Você é um Cientista de Dados em uma empresa. Você tem a tarefa de compreender e observar a saúde mental de todos os funcionários de sua empresa. \r\n",
        "\r\n",
        "Portanto, você deve **prever a taxa de esgotamento dos funcionários com base nos recursos fornecidos**, ajudando assim a empresa a tomar as medidas adequadas."
      ],
      "metadata": {
        "id": "-FaKDu0LbWnG"
      }
    },
    {
      "cell_type": "markdown",
      "source": [
        "Fonte: https://www.kaggle.com/redwankarimsony/hackerearth-employee-burnout-challenge"
      ],
      "metadata": {
        "id": "kPAGU5t4h_aA"
      }
    },
    {
      "cell_type": "markdown",
      "source": [
        "### Tratando a base de dados"
      ],
      "metadata": {}
    },
    {
      "cell_type": "code",
      "execution_count": 5,
      "source": [
        "#Importando bibliotecas e dados\r\n",
        "import pandas as pd\r\n",
        "import numpy as np\r\n",
        "import warnings\r\n",
        "warnings.filterwarnings(\"ignore\")"
      ],
      "outputs": [],
      "metadata": {
        "id": "fAMxweLghRA3"
      }
    },
    {
      "cell_type": "code",
      "execution_count": 38,
      "source": [
        "dados = pd.read_csv(\"RH_Data_Fatige.csv\")\r\n",
        "dados['IDFuncionario'] = pd.factorize(dados['Employee ID'])[0] \r\n",
        "dados.drop(columns='Employee ID', inplace=True)"
      ],
      "outputs": [],
      "metadata": {}
    },
    {
      "cell_type": "code",
      "execution_count": 53,
      "source": [
        "nomes = ['DataEntrada','Sexo','Tipoempresa','SetupCompativel','TempodeCasa','HorasTrabDia','EscoreFadigaMental','Burn Rate','ID']         \r\n",
        "dados.columns = nomes\r\n",
        "dados.head(3)"
      ],
      "outputs": [
        {
          "output_type": "execute_result",
          "data": {
            "text/plain": [
              "  DataEntrada    Sexo Tipoempresa SetupCompativel  TempodeCasa  HorasTrabDia  \\\n",
              "0  2008-09-30  Female     Service              No            2      3.000000   \n",
              "1  2008-11-30    Male     Service             Yes            1      2.000000   \n",
              "2  2008-03-10  Female     Product             Yes            2      0.452005   \n",
              "\n",
              "   EscoreFadigaMental  Burn Rate  ID  \n",
              "0                 3.8       0.16   0  \n",
              "1                 5.0       0.36   1  \n",
              "2                 5.8       0.49   2  "
            ],
            "text/html": [
              "<div>\n",
              "<style scoped>\n",
              "    .dataframe tbody tr th:only-of-type {\n",
              "        vertical-align: middle;\n",
              "    }\n",
              "\n",
              "    .dataframe tbody tr th {\n",
              "        vertical-align: top;\n",
              "    }\n",
              "\n",
              "    .dataframe thead th {\n",
              "        text-align: right;\n",
              "    }\n",
              "</style>\n",
              "<table border=\"1\" class=\"dataframe\">\n",
              "  <thead>\n",
              "    <tr style=\"text-align: right;\">\n",
              "      <th></th>\n",
              "      <th>DataEntrada</th>\n",
              "      <th>Sexo</th>\n",
              "      <th>Tipoempresa</th>\n",
              "      <th>SetupCompativel</th>\n",
              "      <th>TempodeCasa</th>\n",
              "      <th>HorasTrabDia</th>\n",
              "      <th>EscoreFadigaMental</th>\n",
              "      <th>Burn Rate</th>\n",
              "      <th>ID</th>\n",
              "    </tr>\n",
              "  </thead>\n",
              "  <tbody>\n",
              "    <tr>\n",
              "      <th>0</th>\n",
              "      <td>2008-09-30</td>\n",
              "      <td>Female</td>\n",
              "      <td>Service</td>\n",
              "      <td>No</td>\n",
              "      <td>2</td>\n",
              "      <td>3.000000</td>\n",
              "      <td>3.8</td>\n",
              "      <td>0.16</td>\n",
              "      <td>0</td>\n",
              "    </tr>\n",
              "    <tr>\n",
              "      <th>1</th>\n",
              "      <td>2008-11-30</td>\n",
              "      <td>Male</td>\n",
              "      <td>Service</td>\n",
              "      <td>Yes</td>\n",
              "      <td>1</td>\n",
              "      <td>2.000000</td>\n",
              "      <td>5.0</td>\n",
              "      <td>0.36</td>\n",
              "      <td>1</td>\n",
              "    </tr>\n",
              "    <tr>\n",
              "      <th>2</th>\n",
              "      <td>2008-03-10</td>\n",
              "      <td>Female</td>\n",
              "      <td>Product</td>\n",
              "      <td>Yes</td>\n",
              "      <td>2</td>\n",
              "      <td>0.452005</td>\n",
              "      <td>5.8</td>\n",
              "      <td>0.49</td>\n",
              "      <td>2</td>\n",
              "    </tr>\n",
              "  </tbody>\n",
              "</table>\n",
              "</div>"
            ]
          },
          "metadata": {},
          "execution_count": 53
        }
      ],
      "metadata": {}
    },
    {
      "cell_type": "code",
      "execution_count": 52,
      "source": [
        "dados.info()"
      ],
      "outputs": [
        {
          "output_type": "stream",
          "name": "stdout",
          "text": [
            "<class 'pandas.core.frame.DataFrame'>\n",
            "RangeIndex: 22750 entries, 0 to 22749\n",
            "Data columns (total 9 columns):\n",
            " #   Column              Non-Null Count  Dtype         \n",
            "---  ------              --------------  -----         \n",
            " 0   DataEntrada         22750 non-null  datetime64[ns]\n",
            " 1   Sexo                22750 non-null  category      \n",
            " 2   Tipoempresa         22750 non-null  category      \n",
            " 3   SetupCompativel     22750 non-null  category      \n",
            " 4   TempodeCasa         22750 non-null  int64         \n",
            " 5   HorasTrabDia        22750 non-null  float64       \n",
            " 6   EscoreFadigaMental  22750 non-null  float64       \n",
            " 7   Burn Rate           22750 non-null  float64       \n",
            " 8   ID                  22750 non-null  int64         \n",
            "dtypes: category(3), datetime64[ns](1), float64(3), int64(2)\n",
            "memory usage: 1.1 MB\n"
          ]
        }
      ],
      "metadata": {}
    },
    {
      "cell_type": "code",
      "execution_count": 51,
      "source": [
        "dados.duplicated().sum()"
      ],
      "outputs": [
        {
          "output_type": "execute_result",
          "data": {
            "text/plain": [
              "0"
            ]
          },
          "metadata": {},
          "execution_count": 51
        }
      ],
      "metadata": {}
    },
    {
      "cell_type": "code",
      "execution_count": 42,
      "source": [
        "# Transformando variáveis objeto em categoricas para reduzir o uso da memória\r\n",
        "categoricas = ['Sexo', 'Tipoempresa', 'SetupCompativel']\r\n",
        "for c in categoricas:\r\n",
        "    dados[c] = dados[c].astype('category')"
      ],
      "outputs": [],
      "metadata": {}
    },
    {
      "cell_type": "code",
      "execution_count": 43,
      "source": [
        "dados['DataEntrada'] = dados['DataEntrada'].astype('datetime64')"
      ],
      "outputs": [],
      "metadata": {}
    },
    {
      "cell_type": "code",
      "execution_count": 44,
      "source": [
        "dados['TempodeCasa'] = dados['TempodeCasa'].astype('int64') # Convertendo coluna string em float"
      ],
      "outputs": [],
      "metadata": {}
    },
    {
      "cell_type": "code",
      "execution_count": 45,
      "source": [
        "dados.isnull().sum()"
      ],
      "outputs": [
        {
          "output_type": "execute_result",
          "data": {
            "text/plain": [
              "DataEntrada              0\n",
              "Sexo                     0\n",
              "Tipoempresa              0\n",
              "SetupCompativel          0\n",
              "TempodeCasa              0\n",
              "HorasTrabDia          1381\n",
              "EscoreFadigaMental    2117\n",
              "Burn Rate             1124\n",
              "ID                       0\n",
              "dtype: int64"
            ]
          },
          "metadata": {},
          "execution_count": 45
        }
      ],
      "metadata": {}
    },
    {
      "cell_type": "code",
      "execution_count": 47,
      "source": [
        "# substituindo campos vazios pela media\r\n",
        "nulos = ['HorasTrabDia','EscoreFadigaMental','Burn Rate']\r\n",
        "dados[nulos] = dados[nulos].replace({np.nan: dados['HorasTrabDia'].mean(), \r\n",
        "                                     np.nan: dados['EscoreFadigaMental'].mean(), \r\n",
        "                                     np.nan: dados['Burn Rate'].mean()})"
      ],
      "outputs": [],
      "metadata": {}
    },
    {
      "cell_type": "code",
      "execution_count": 48,
      "source": [
        "dados.info()"
      ],
      "outputs": [
        {
          "output_type": "stream",
          "name": "stdout",
          "text": [
            "<class 'pandas.core.frame.DataFrame'>\n",
            "RangeIndex: 22750 entries, 0 to 22749\n",
            "Data columns (total 9 columns):\n",
            " #   Column              Non-Null Count  Dtype         \n",
            "---  ------              --------------  -----         \n",
            " 0   DataEntrada         22750 non-null  datetime64[ns]\n",
            " 1   Sexo                22750 non-null  category      \n",
            " 2   Tipoempresa         22750 non-null  category      \n",
            " 3   SetupCompativel     22750 non-null  category      \n",
            " 4   TempodeCasa         22750 non-null  int64         \n",
            " 5   HorasTrabDia        22750 non-null  float64       \n",
            " 6   EscoreFadigaMental  22750 non-null  float64       \n",
            " 7   Burn Rate           22750 non-null  float64       \n",
            " 8   ID                  22750 non-null  int64         \n",
            "dtypes: category(3), datetime64[ns](1), float64(3), int64(2)\n",
            "memory usage: 1.1 MB\n"
          ]
        }
      ],
      "metadata": {}
    },
    {
      "cell_type": "markdown",
      "source": [
        "### Análise Exploratória dos Dados"
      ],
      "metadata": {}
    },
    {
      "cell_type": "code",
      "execution_count": 22,
      "source": [
        "import sweetviz as sv\r\n",
        "rel = sv.analyze(dados, target_feat='Target')\r\n",
        "rel.show_html()"
      ],
      "outputs": [
        {
          "output_type": "stream",
          "name": "stderr",
          "text": [
            "Done! Use 'show' commands to display/save.   |██████████| [100%]   00:00 -> (00:00 left)\n"
          ]
        },
        {
          "output_type": "stream",
          "name": "stdout",
          "text": [
            "Report SWEETVIZ_REPORT.html was generated! NOTEBOOK/COLAB USERS: the web browser MAY not pop up, regardless, the report IS saved in your notebook/colab files.\n"
          ]
        }
      ],
      "metadata": {}
    },
    {
      "cell_type": "markdown",
      "source": [
        "### Engenharia de Atributos"
      ],
      "metadata": {
        "id": "3TH2dhVjmctx"
      }
    },
    {
      "cell_type": "code",
      "execution_count": 87,
      "source": [
        "# LabelEncoder - Variáveis não numéricas\r\n",
        "dados['Sexo'] = dados['Sexo'].map({'Male':1,'Female':0})\r\n",
        "dados['SetupCompativel'] = dados['SetupCompativel'].map({'Yes':1,'No':0})\r\n",
        "dados['Tipoempresa'] = dados['Tipoempresa'].map({'Service':1,'Product':0})\r\n",
        "dados.head(3)"
      ],
      "outputs": [
        {
          "output_type": "execute_result",
          "data": {
            "text/plain": [
              "  DataEntrada    Sexo Tipoempresa SetupCompativel  TempodeCasa  HorasTrabDia  \\\n",
              "0  2008-09-30  Female     Service              No            2      3.000000   \n",
              "1  2008-11-30    Male     Service             Yes            1      2.000000   \n",
              "2  2008-03-10  Female     Product             Yes            2      0.452005   \n",
              "\n",
              "   EscoreFadigaMental  Burn Rate  ID   Burnout  \n",
              "0                 3.8       0.16   0      Alto  \n",
              "1                 5.0       0.36   1     Baixo  \n",
              "2                 5.8       0.49   2  Moderado  "
            ],
            "text/html": [
              "<div>\n",
              "<style scoped>\n",
              "    .dataframe tbody tr th:only-of-type {\n",
              "        vertical-align: middle;\n",
              "    }\n",
              "\n",
              "    .dataframe tbody tr th {\n",
              "        vertical-align: top;\n",
              "    }\n",
              "\n",
              "    .dataframe thead th {\n",
              "        text-align: right;\n",
              "    }\n",
              "</style>\n",
              "<table border=\"1\" class=\"dataframe\">\n",
              "  <thead>\n",
              "    <tr style=\"text-align: right;\">\n",
              "      <th></th>\n",
              "      <th>DataEntrada</th>\n",
              "      <th>Sexo</th>\n",
              "      <th>Tipoempresa</th>\n",
              "      <th>SetupCompativel</th>\n",
              "      <th>TempodeCasa</th>\n",
              "      <th>HorasTrabDia</th>\n",
              "      <th>EscoreFadigaMental</th>\n",
              "      <th>Burn Rate</th>\n",
              "      <th>ID</th>\n",
              "      <th>Burnout</th>\n",
              "    </tr>\n",
              "  </thead>\n",
              "  <tbody>\n",
              "    <tr>\n",
              "      <th>0</th>\n",
              "      <td>2008-09-30</td>\n",
              "      <td>Female</td>\n",
              "      <td>Service</td>\n",
              "      <td>No</td>\n",
              "      <td>2</td>\n",
              "      <td>3.000000</td>\n",
              "      <td>3.8</td>\n",
              "      <td>0.16</td>\n",
              "      <td>0</td>\n",
              "      <td>Alto</td>\n",
              "    </tr>\n",
              "    <tr>\n",
              "      <th>1</th>\n",
              "      <td>2008-11-30</td>\n",
              "      <td>Male</td>\n",
              "      <td>Service</td>\n",
              "      <td>Yes</td>\n",
              "      <td>1</td>\n",
              "      <td>2.000000</td>\n",
              "      <td>5.0</td>\n",
              "      <td>0.36</td>\n",
              "      <td>1</td>\n",
              "      <td>Baixo</td>\n",
              "    </tr>\n",
              "    <tr>\n",
              "      <th>2</th>\n",
              "      <td>2008-03-10</td>\n",
              "      <td>Female</td>\n",
              "      <td>Product</td>\n",
              "      <td>Yes</td>\n",
              "      <td>2</td>\n",
              "      <td>0.452005</td>\n",
              "      <td>5.8</td>\n",
              "      <td>0.49</td>\n",
              "      <td>2</td>\n",
              "      <td>Moderado</td>\n",
              "    </tr>\n",
              "  </tbody>\n",
              "</table>\n",
              "</div>"
            ]
          },
          "metadata": {},
          "execution_count": 87
        }
      ],
      "metadata": {
        "id": "C-lZCaYX1snY"
      }
    },
    {
      "cell_type": "markdown",
      "source": [
        "### Clusterização"
      ],
      "metadata": {}
    },
    {
      "cell_type": "code",
      "execution_count": 54,
      "source": [
        "# Importando bilbiotecas\r\n",
        "from sklearn.preprocessing import StandardScaler\r\n",
        "from sklearn.cluster import KMeans\r\n",
        "import matplotlib.pyplot as plt"
      ],
      "outputs": [],
      "metadata": {}
    },
    {
      "cell_type": "code",
      "execution_count": 64,
      "source": [
        "# Criando um dataset agrupando as colunas necessárias\r\n",
        "cluster = dados.copy()\r\n",
        "cluster.drop(columns=['DataEntrada', 'Sexo', 'Tipoempresa', 'ID'], inplace=True)\r\n",
        "cluster['SetupCompativel'] = cluster['SetupCompativel'].map({'No':0, 'Yes':1})\r\n",
        "cluster.head(3)"
      ],
      "outputs": [
        {
          "output_type": "execute_result",
          "data": {
            "text/plain": [
              "  SetupCompativel  TempodeCasa  HorasTrabDia  EscoreFadigaMental  Burn Rate\n",
              "0               0            2      3.000000                 3.8       0.16\n",
              "1               1            1      2.000000                 5.0       0.36\n",
              "2               1            2      0.452005                 5.8       0.49"
            ],
            "text/html": [
              "<div>\n",
              "<style scoped>\n",
              "    .dataframe tbody tr th:only-of-type {\n",
              "        vertical-align: middle;\n",
              "    }\n",
              "\n",
              "    .dataframe tbody tr th {\n",
              "        vertical-align: top;\n",
              "    }\n",
              "\n",
              "    .dataframe thead th {\n",
              "        text-align: right;\n",
              "    }\n",
              "</style>\n",
              "<table border=\"1\" class=\"dataframe\">\n",
              "  <thead>\n",
              "    <tr style=\"text-align: right;\">\n",
              "      <th></th>\n",
              "      <th>SetupCompativel</th>\n",
              "      <th>TempodeCasa</th>\n",
              "      <th>HorasTrabDia</th>\n",
              "      <th>EscoreFadigaMental</th>\n",
              "      <th>Burn Rate</th>\n",
              "    </tr>\n",
              "  </thead>\n",
              "  <tbody>\n",
              "    <tr>\n",
              "      <th>0</th>\n",
              "      <td>0</td>\n",
              "      <td>2</td>\n",
              "      <td>3.000000</td>\n",
              "      <td>3.8</td>\n",
              "      <td>0.16</td>\n",
              "    </tr>\n",
              "    <tr>\n",
              "      <th>1</th>\n",
              "      <td>1</td>\n",
              "      <td>1</td>\n",
              "      <td>2.000000</td>\n",
              "      <td>5.0</td>\n",
              "      <td>0.36</td>\n",
              "    </tr>\n",
              "    <tr>\n",
              "      <th>2</th>\n",
              "      <td>1</td>\n",
              "      <td>2</td>\n",
              "      <td>0.452005</td>\n",
              "      <td>5.8</td>\n",
              "      <td>0.49</td>\n",
              "    </tr>\n",
              "  </tbody>\n",
              "</table>\n",
              "</div>"
            ]
          },
          "metadata": {},
          "execution_count": 64
        }
      ],
      "metadata": {}
    },
    {
      "cell_type": "code",
      "execution_count": 65,
      "source": [
        "# Passando os dados dos clientes para o formato de matriz\r\n",
        "cluster1 = cluster.values\r\n",
        "# Escalonando os dados\r\n",
        "sc = StandardScaler()\r\n",
        "matriz = sc.fit_transform(cluster1)\r\n",
        "matriz"
      ],
      "outputs": [
        {
          "output_type": "execute_result",
          "data": {
            "text/plain": [
              "array([[-1.08395212, -0.15745059, -0.56089569, -0.60221802, -1.51092248],\n",
              "       [ 0.92254997, -1.03841492, -1.01440094, -0.0993965 , -0.47606341],\n",
              "       [ 0.92254997, -0.15745059, -1.7164246 ,  0.23581785,  0.19659499],\n",
              "       ...,\n",
              "       [ 0.92254997,  0.72351373,  1.25312533, -2.0050878 ,  1.38668292],\n",
              "       [-1.08395212, -0.15745059,  0.34611482,  0.27771965,  0.35182385],\n",
              "       [-1.08395212,  0.72351373,  0.79962007,  1.07385373,  0.81751043]])"
            ]
          },
          "metadata": {},
          "execution_count": 65
        }
      ],
      "metadata": {}
    },
    {
      "cell_type": "code",
      "execution_count": 66,
      "source": [
        "# Escolhendo o numero de clusters pelo método Elbow utilizando K-Means\r\n",
        "ks = range(1, 11)\r\n",
        "inertia = [] # inertia: Soma das distâncias quadráticas intra cluster\r\n",
        "for k in ks:\r\n",
        "    # Criando um modelo KMeans com k clusters:\r\n",
        "    model = KMeans(n_clusters= k)   \r\n",
        "    # Fitando os dados no modelo\r\n",
        "    model.fit(matriz)    \r\n",
        "    # Adicionado os resultados da inertia na sua lista\r\n",
        "    inertia.append(model.inertia_)    \r\n",
        "# Gráfico Elbow\r\n",
        "plt.figure(figsize=(15,6))\r\n",
        "plt.plot(ks, inertia, '-o')\r\n",
        "plt.xlabel('Num. de clusters')\r\n",
        "plt.ylabel('Soma das distâncias Q intra clusters')\r\n",
        "plt.xticks(ks)\r\n",
        "plt.show()"
      ],
      "outputs": [
        {
          "output_type": "display_data",
          "data": {
            "text/plain": [
              "<Figure size 1500x600 with 1 Axes>"
            ],
            "image/png": "[encoded data removed]"
          },
          "metadata": {}
        }
      ],
      "metadata": {}
    },
    {
      "cell_type": "code",
      "execution_count": 67,
      "source": [
        "#Criando um modelo\r\n",
        "modelo = KMeans(n_clusters=4)\r\n",
        "modelo.fit(matriz)"
      ],
      "outputs": [
        {
          "output_type": "execute_result",
          "data": {
            "text/plain": [
              "KMeans(n_clusters=4)"
            ]
          },
          "metadata": {},
          "execution_count": 67
        }
      ],
      "metadata": {}
    },
    {
      "cell_type": "code",
      "execution_count": 68,
      "source": [
        "# Adicionando os clusters na tabela de clientes\r\n",
        "dados['Categoria'] = modelo.predict(matriz)\r\n",
        "dados.head()"
      ],
      "outputs": [
        {
          "output_type": "execute_result",
          "data": {
            "text/plain": [
              "  DataEntrada    Sexo Tipoempresa SetupCompativel  TempodeCasa  HorasTrabDia  \\\n",
              "0  2008-09-30  Female     Service              No            2      3.000000   \n",
              "1  2008-11-30    Male     Service             Yes            1      2.000000   \n",
              "2  2008-03-10  Female     Product             Yes            2      0.452005   \n",
              "3  2008-11-03    Male     Service             Yes            1      1.000000   \n",
              "4  2008-07-24  Female     Service              No            3      7.000000   \n",
              "\n",
              "   EscoreFadigaMental  Burn Rate  ID  Categoria  \n",
              "0                 3.8       0.16   0          0  \n",
              "1                 5.0       0.36   1          2  \n",
              "2                 5.8       0.49   2          3  \n",
              "3                 2.6       0.20   3          2  \n",
              "4                 6.9       0.52   4          1  "
            ],
            "text/html": [
              "<div>\n",
              "<style scoped>\n",
              "    .dataframe tbody tr th:only-of-type {\n",
              "        vertical-align: middle;\n",
              "    }\n",
              "\n",
              "    .dataframe tbody tr th {\n",
              "        vertical-align: top;\n",
              "    }\n",
              "\n",
              "    .dataframe thead th {\n",
              "        text-align: right;\n",
              "    }\n",
              "</style>\n",
              "<table border=\"1\" class=\"dataframe\">\n",
              "  <thead>\n",
              "    <tr style=\"text-align: right;\">\n",
              "      <th></th>\n",
              "      <th>DataEntrada</th>\n",
              "      <th>Sexo</th>\n",
              "      <th>Tipoempresa</th>\n",
              "      <th>SetupCompativel</th>\n",
              "      <th>TempodeCasa</th>\n",
              "      <th>HorasTrabDia</th>\n",
              "      <th>EscoreFadigaMental</th>\n",
              "      <th>Burn Rate</th>\n",
              "      <th>ID</th>\n",
              "      <th>Categoria</th>\n",
              "    </tr>\n",
              "  </thead>\n",
              "  <tbody>\n",
              "    <tr>\n",
              "      <th>0</th>\n",
              "      <td>2008-09-30</td>\n",
              "      <td>Female</td>\n",
              "      <td>Service</td>\n",
              "      <td>No</td>\n",
              "      <td>2</td>\n",
              "      <td>3.000000</td>\n",
              "      <td>3.8</td>\n",
              "      <td>0.16</td>\n",
              "      <td>0</td>\n",
              "      <td>0</td>\n",
              "    </tr>\n",
              "    <tr>\n",
              "      <th>1</th>\n",
              "      <td>2008-11-30</td>\n",
              "      <td>Male</td>\n",
              "      <td>Service</td>\n",
              "      <td>Yes</td>\n",
              "      <td>1</td>\n",
              "      <td>2.000000</td>\n",
              "      <td>5.0</td>\n",
              "      <td>0.36</td>\n",
              "      <td>1</td>\n",
              "      <td>2</td>\n",
              "    </tr>\n",
              "    <tr>\n",
              "      <th>2</th>\n",
              "      <td>2008-03-10</td>\n",
              "      <td>Female</td>\n",
              "      <td>Product</td>\n",
              "      <td>Yes</td>\n",
              "      <td>2</td>\n",
              "      <td>0.452005</td>\n",
              "      <td>5.8</td>\n",
              "      <td>0.49</td>\n",
              "      <td>2</td>\n",
              "      <td>3</td>\n",
              "    </tr>\n",
              "    <tr>\n",
              "      <th>3</th>\n",
              "      <td>2008-11-03</td>\n",
              "      <td>Male</td>\n",
              "      <td>Service</td>\n",
              "      <td>Yes</td>\n",
              "      <td>1</td>\n",
              "      <td>1.000000</td>\n",
              "      <td>2.6</td>\n",
              "      <td>0.20</td>\n",
              "      <td>3</td>\n",
              "      <td>2</td>\n",
              "    </tr>\n",
              "    <tr>\n",
              "      <th>4</th>\n",
              "      <td>2008-07-24</td>\n",
              "      <td>Female</td>\n",
              "      <td>Service</td>\n",
              "      <td>No</td>\n",
              "      <td>3</td>\n",
              "      <td>7.000000</td>\n",
              "      <td>6.9</td>\n",
              "      <td>0.52</td>\n",
              "      <td>4</td>\n",
              "      <td>1</td>\n",
              "    </tr>\n",
              "  </tbody>\n",
              "</table>\n",
              "</div>"
            ]
          },
          "metadata": {},
          "execution_count": 68
        }
      ],
      "metadata": {}
    },
    {
      "cell_type": "code",
      "execution_count": 85,
      "source": [
        "# Renomeando os clusters\r\n",
        "dados['Burnout'] = dados['Categoria'].map({2:'Baixo', 3:'Moderado', 0:'Alto', 1:'Burnout'})\r\n",
        "dados.drop(columns='Categoria', inplace=True)\r\n",
        "dados.sample(9)"
      ],
      "outputs": [
        {
          "output_type": "execute_result",
          "data": {
            "text/plain": [
              "      DataEntrada    Sexo Tipoempresa SetupCompativel  TempodeCasa  \\\n",
              "16457  2008-12-14  Female     Service             Yes            2   \n",
              "4602   2008-05-11  Female     Product              No            3   \n",
              "19634  2008-10-27  Female     Product             Yes            1   \n",
              "17144  2008-11-15    Male     Product              No            4   \n",
              "19521  2008-03-06    Male     Service              No            3   \n",
              "8578   2008-09-04    Male     Service             Yes            3   \n",
              "11491  2008-09-02    Male     Service             Yes            2   \n",
              "16174  2008-07-16    Male     Service             Yes            1   \n",
              "5160   2008-08-24    Male     Service              No            1   \n",
              "\n",
              "       HorasTrabDia  EscoreFadigaMental  Burn Rate     ID   Burnout  \n",
              "16457           3.0            4.900000       0.28  16457  Moderado  \n",
              "4602            7.0            6.200000       0.53   4602   Burnout  \n",
              "19634           3.0            3.000000       0.19  19634     Baixo  \n",
              "17144           8.0            6.700000       0.55  17144   Burnout  \n",
              "19521           6.0            0.452005       0.42  19521      Alto  \n",
              "8578            7.0            6.100000       0.55   8578  Moderado  \n",
              "11491           5.0            0.452005       0.66  11491  Moderado  \n",
              "16174           3.0            0.452005       0.50  16174     Baixo  \n",
              "5160            5.0            7.000000       0.53   5160      Alto  "
            ],
            "text/html": [
              "<div>\n",
              "<style scoped>\n",
              "    .dataframe tbody tr th:only-of-type {\n",
              "        vertical-align: middle;\n",
              "    }\n",
              "\n",
              "    .dataframe tbody tr th {\n",
              "        vertical-align: top;\n",
              "    }\n",
              "\n",
              "    .dataframe thead th {\n",
              "        text-align: right;\n",
              "    }\n",
              "</style>\n",
              "<table border=\"1\" class=\"dataframe\">\n",
              "  <thead>\n",
              "    <tr style=\"text-align: right;\">\n",
              "      <th></th>\n",
              "      <th>DataEntrada</th>\n",
              "      <th>Sexo</th>\n",
              "      <th>Tipoempresa</th>\n",
              "      <th>SetupCompativel</th>\n",
              "      <th>TempodeCasa</th>\n",
              "      <th>HorasTrabDia</th>\n",
              "      <th>EscoreFadigaMental</th>\n",
              "      <th>Burn Rate</th>\n",
              "      <th>ID</th>\n",
              "      <th>Burnout</th>\n",
              "    </tr>\n",
              "  </thead>\n",
              "  <tbody>\n",
              "    <tr>\n",
              "      <th>16457</th>\n",
              "      <td>2008-12-14</td>\n",
              "      <td>Female</td>\n",
              "      <td>Service</td>\n",
              "      <td>Yes</td>\n",
              "      <td>2</td>\n",
              "      <td>3.0</td>\n",
              "      <td>4.900000</td>\n",
              "      <td>0.28</td>\n",
              "      <td>16457</td>\n",
              "      <td>Moderado</td>\n",
              "    </tr>\n",
              "    <tr>\n",
              "      <th>4602</th>\n",
              "      <td>2008-05-11</td>\n",
              "      <td>Female</td>\n",
              "      <td>Product</td>\n",
              "      <td>No</td>\n",
              "      <td>3</td>\n",
              "      <td>7.0</td>\n",
              "      <td>6.200000</td>\n",
              "      <td>0.53</td>\n",
              "      <td>4602</td>\n",
              "      <td>Burnout</td>\n",
              "    </tr>\n",
              "    <tr>\n",
              "      <th>19634</th>\n",
              "      <td>2008-10-27</td>\n",
              "      <td>Female</td>\n",
              "      <td>Product</td>\n",
              "      <td>Yes</td>\n",
              "      <td>1</td>\n",
              "      <td>3.0</td>\n",
              "      <td>3.000000</td>\n",
              "      <td>0.19</td>\n",
              "      <td>19634</td>\n",
              "      <td>Baixo</td>\n",
              "    </tr>\n",
              "    <tr>\n",
              "      <th>17144</th>\n",
              "      <td>2008-11-15</td>\n",
              "      <td>Male</td>\n",
              "      <td>Product</td>\n",
              "      <td>No</td>\n",
              "      <td>4</td>\n",
              "      <td>8.0</td>\n",
              "      <td>6.700000</td>\n",
              "      <td>0.55</td>\n",
              "      <td>17144</td>\n",
              "      <td>Burnout</td>\n",
              "    </tr>\n",
              "    <tr>\n",
              "      <th>19521</th>\n",
              "      <td>2008-03-06</td>\n",
              "      <td>Male</td>\n",
              "      <td>Service</td>\n",
              "      <td>No</td>\n",
              "      <td>3</td>\n",
              "      <td>6.0</td>\n",
              "      <td>0.452005</td>\n",
              "      <td>0.42</td>\n",
              "      <td>19521</td>\n",
              "      <td>Alto</td>\n",
              "    </tr>\n",
              "    <tr>\n",
              "      <th>8578</th>\n",
              "      <td>2008-09-04</td>\n",
              "      <td>Male</td>\n",
              "      <td>Service</td>\n",
              "      <td>Yes</td>\n",
              "      <td>3</td>\n",
              "      <td>7.0</td>\n",
              "      <td>6.100000</td>\n",
              "      <td>0.55</td>\n",
              "      <td>8578</td>\n",
              "      <td>Moderado</td>\n",
              "    </tr>\n",
              "    <tr>\n",
              "      <th>11491</th>\n",
              "      <td>2008-09-02</td>\n",
              "      <td>Male</td>\n",
              "      <td>Service</td>\n",
              "      <td>Yes</td>\n",
              "      <td>2</td>\n",
              "      <td>5.0</td>\n",
              "      <td>0.452005</td>\n",
              "      <td>0.66</td>\n",
              "      <td>11491</td>\n",
              "      <td>Moderado</td>\n",
              "    </tr>\n",
              "    <tr>\n",
              "      <th>16174</th>\n",
              "      <td>2008-07-16</td>\n",
              "      <td>Male</td>\n",
              "      <td>Service</td>\n",
              "      <td>Yes</td>\n",
              "      <td>1</td>\n",
              "      <td>3.0</td>\n",
              "      <td>0.452005</td>\n",
              "      <td>0.50</td>\n",
              "      <td>16174</td>\n",
              "      <td>Baixo</td>\n",
              "    </tr>\n",
              "    <tr>\n",
              "      <th>5160</th>\n",
              "      <td>2008-08-24</td>\n",
              "      <td>Male</td>\n",
              "      <td>Service</td>\n",
              "      <td>No</td>\n",
              "      <td>1</td>\n",
              "      <td>5.0</td>\n",
              "      <td>7.000000</td>\n",
              "      <td>0.53</td>\n",
              "      <td>5160</td>\n",
              "      <td>Alto</td>\n",
              "    </tr>\n",
              "  </tbody>\n",
              "</table>\n",
              "</div>"
            ]
          },
          "metadata": {},
          "execution_count": 85
        }
      ],
      "metadata": {}
    },
    {
      "cell_type": "code",
      "execution_count": 86,
      "source": [
        "dados.Burnout.value_counts()"
      ],
      "outputs": [
        {
          "output_type": "execute_result",
          "data": {
            "text/plain": [
              "Moderado    7145\n",
              "Alto        5561\n",
              "Baixo       5145\n",
              "Burnout     4899\n",
              "Name: Burnout, dtype: int64"
            ]
          },
          "metadata": {},
          "execution_count": 86
        }
      ],
      "metadata": {}
    },
    {
      "cell_type": "code",
      "execution_count": 131,
      "source": [
        "dados1 = dados[['ID', 'Burnout']]\r\n",
        "dados1.to_csv('tabelaBurnFuncionarios.csv')"
      ],
      "outputs": [],
      "metadata": {}
    },
    {
      "cell_type": "markdown",
      "source": [
        "### Modelagem  e Avaliação (ML)\r\n"
      ],
      "metadata": {
        "id": "C17poDU9m3KQ"
      }
    },
    {
      "cell_type": "code",
      "execution_count": 88,
      "source": [
        "dados.head(3)"
      ],
      "outputs": [
        {
          "output_type": "execute_result",
          "data": {
            "text/plain": [
              "  DataEntrada    Sexo Tipoempresa SetupCompativel  TempodeCasa  HorasTrabDia  \\\n",
              "0  2008-09-30  Female     Service              No            2      3.000000   \n",
              "1  2008-11-30    Male     Service             Yes            1      2.000000   \n",
              "2  2008-03-10  Female     Product             Yes            2      0.452005   \n",
              "\n",
              "   EscoreFadigaMental  Burn Rate  ID   Burnout  \n",
              "0                 3.8       0.16   0      Alto  \n",
              "1                 5.0       0.36   1     Baixo  \n",
              "2                 5.8       0.49   2  Moderado  "
            ],
            "text/html": [
              "<div>\n",
              "<style scoped>\n",
              "    .dataframe tbody tr th:only-of-type {\n",
              "        vertical-align: middle;\n",
              "    }\n",
              "\n",
              "    .dataframe tbody tr th {\n",
              "        vertical-align: top;\n",
              "    }\n",
              "\n",
              "    .dataframe thead th {\n",
              "        text-align: right;\n",
              "    }\n",
              "</style>\n",
              "<table border=\"1\" class=\"dataframe\">\n",
              "  <thead>\n",
              "    <tr style=\"text-align: right;\">\n",
              "      <th></th>\n",
              "      <th>DataEntrada</th>\n",
              "      <th>Sexo</th>\n",
              "      <th>Tipoempresa</th>\n",
              "      <th>SetupCompativel</th>\n",
              "      <th>TempodeCasa</th>\n",
              "      <th>HorasTrabDia</th>\n",
              "      <th>EscoreFadigaMental</th>\n",
              "      <th>Burn Rate</th>\n",
              "      <th>ID</th>\n",
              "      <th>Burnout</th>\n",
              "    </tr>\n",
              "  </thead>\n",
              "  <tbody>\n",
              "    <tr>\n",
              "      <th>0</th>\n",
              "      <td>2008-09-30</td>\n",
              "      <td>Female</td>\n",
              "      <td>Service</td>\n",
              "      <td>No</td>\n",
              "      <td>2</td>\n",
              "      <td>3.000000</td>\n",
              "      <td>3.8</td>\n",
              "      <td>0.16</td>\n",
              "      <td>0</td>\n",
              "      <td>Alto</td>\n",
              "    </tr>\n",
              "    <tr>\n",
              "      <th>1</th>\n",
              "      <td>2008-11-30</td>\n",
              "      <td>Male</td>\n",
              "      <td>Service</td>\n",
              "      <td>Yes</td>\n",
              "      <td>1</td>\n",
              "      <td>2.000000</td>\n",
              "      <td>5.0</td>\n",
              "      <td>0.36</td>\n",
              "      <td>1</td>\n",
              "      <td>Baixo</td>\n",
              "    </tr>\n",
              "    <tr>\n",
              "      <th>2</th>\n",
              "      <td>2008-03-10</td>\n",
              "      <td>Female</td>\n",
              "      <td>Product</td>\n",
              "      <td>Yes</td>\n",
              "      <td>2</td>\n",
              "      <td>0.452005</td>\n",
              "      <td>5.8</td>\n",
              "      <td>0.49</td>\n",
              "      <td>2</td>\n",
              "      <td>Moderado</td>\n",
              "    </tr>\n",
              "  </tbody>\n",
              "</table>\n",
              "</div>"
            ]
          },
          "metadata": {},
          "execution_count": 88
        }
      ],
      "metadata": {}
    },
    {
      "cell_type": "code",
      "execution_count": 94,
      "source": [
        "# Criando variáveis ​​independentes alvo\r\n",
        "X = dados.drop(columns=['DataEntrada', 'Burn Rate', 'Sexo',\t'Tipoempresa','Burnout'], axis=1)\r\n",
        "X['SetupCompativel'] = X['SetupCompativel'].map({'No':0,'Yes':1})\r\n",
        "X= X.values\r\n",
        "y = dados[\"Burn Rate\"].values"
      ],
      "outputs": [],
      "metadata": {
        "id": "k_y9VhJZDvHr"
      }
    },
    {
      "cell_type": "code",
      "execution_count": 95,
      "source": [
        "# Separando dados de treino e teste\r\n",
        "from sklearn.model_selection import  train_test_split\r\n",
        "X_train,X_test,y_train,y_test = train_test_split(X, y, train_size = 0.8, random_state= 42)"
      ],
      "outputs": [],
      "metadata": {}
    },
    {
      "cell_type": "code",
      "execution_count": 96,
      "source": [
        "#import lightgbm and xgboost \r\n",
        "import lightgbm as lgb \r\n",
        "import xgboost as xgb \r\n",
        "\r\n",
        "# Avaliação dos modelos\r\n",
        "from sklearn.metrics import mean_squared_error, r2_score\r\n",
        "import math"
      ],
      "outputs": [],
      "metadata": {}
    },
    {
      "cell_type": "code",
      "execution_count": 97,
      "source": [
        "# Construindo os modelos\r\n",
        "xgb_model = xgb.XGBRegressor()\r\n",
        "lgb_model = lgb.LGBMRegressor(n_estimators=200)\r\n",
        "# treinamento dos modelos\r\n",
        "lgb_model.fit(X_train, y_train)\r\n",
        "xgb_model.fit(X_train, y_train)"
      ],
      "outputs": [
        {
          "output_type": "execute_result",
          "data": {
            "text/plain": [
              "XGBRegressor(base_score=0.5, booster='gbtree', colsample_bylevel=1,\n",
              "             colsample_bynode=1, colsample_bytree=1, gamma=0, gpu_id=-1,\n",
              "             importance_type='gain', interaction_constraints='',\n",
              "             learning_rate=0.300000012, max_delta_step=0, max_depth=6,\n",
              "             min_child_weight=1, missing=nan, monotone_constraints='()',\n",
              "             n_estimators=100, n_jobs=6, num_parallel_tree=1, random_state=0,\n",
              "             reg_alpha=0, reg_lambda=1, scale_pos_weight=1, subsample=1,\n",
              "             tree_method='exact', validate_parameters=1, verbosity=None)"
            ]
          },
          "metadata": {},
          "execution_count": 97
        }
      ],
      "metadata": {
        "id": "0hmpE1sdhv-o"
      }
    },
    {
      "cell_type": "code",
      "execution_count": 108,
      "source": [
        "y_predict= lgb_model.predict(X_test)\r\n",
        "y_predict"
      ],
      "outputs": [
        {
          "output_type": "execute_result",
          "data": {
            "text/plain": [
              "array([0.27950595, 0.5463026 , 0.38251054, ..., 0.59212359, 0.61934419,\n",
              "       0.46044915])"
            ]
          },
          "metadata": {},
          "execution_count": 108
        }
      ],
      "metadata": {
        "colab": {
          "base_uri": "https://localhost:8080/"
        },
        "id": "G19pbvJZ9MUd",
        "outputId": "c642a4ed-3950-4c6f-9a77-8bf9c207f580"
      }
    },
    {
      "cell_type": "code",
      "execution_count": 109,
      "source": [
        "z_predict= xgb_model.predict(X_test)\r\n",
        "z_predict"
      ],
      "outputs": [
        {
          "output_type": "execute_result",
          "data": {
            "text/plain": [
              "array([0.2746803 , 0.5325539 , 0.37605062, ..., 0.58916247, 0.6117925 ,\n",
              "       0.4591137 ], dtype=float32)"
            ]
          },
          "metadata": {},
          "execution_count": 109
        }
      ],
      "metadata": {
        "id": "6LI10Z5chwEj"
      }
    },
    {
      "cell_type": "code",
      "execution_count": 100,
      "source": [
        "# Calcula a métrica R2 do nosso modelo\r\n",
        "r2_score(y_test, y_predict)"
      ],
      "outputs": [
        {
          "output_type": "execute_result",
          "data": {
            "text/plain": [
              "0.8572252160299196"
            ]
          },
          "metadata": {},
          "execution_count": 100
        }
      ],
      "metadata": {}
    },
    {
      "cell_type": "code",
      "execution_count": 101,
      "source": [
        "# Calculo da métrica R2 do nosso modelo\r\n",
        "r2_score(y_test, lgb_model.fit(X_train, y_train).predict(X_test))"
      ],
      "outputs": [
        {
          "output_type": "execute_result",
          "data": {
            "text/plain": [
              "0.8572252160299196"
            ]
          },
          "metadata": {},
          "execution_count": 101
        }
      ],
      "metadata": {}
    },
    {
      "cell_type": "code",
      "execution_count": 110,
      "source": [
        "# Calculo da métrica R2 do nosso modelo\r\n",
        "r2_score(y_test, xgb_model.fit(X_train, y_train).predict(X_test))"
      ],
      "outputs": [
        {
          "output_type": "execute_result",
          "data": {
            "text/plain": [
              "0.8536687995819077"
            ]
          },
          "metadata": {},
          "execution_count": 110
        }
      ],
      "metadata": {}
    },
    {
      "cell_type": "code",
      "execution_count": 106,
      "source": [
        "#RMSE - O erro médio\r\n",
        "Rmse_test = math.sqrt(mean_squared_error(y_test,y_predict))\r\n",
        "print(\"RMSE: {:.2f}\".format(Rmse_test))"
      ],
      "outputs": [
        {
          "output_type": "stream",
          "name": "stdout",
          "text": [
            "RMSE: 0.07\n"
          ]
        }
      ],
      "metadata": {}
    }
  ],
  "metadata": {
    "colab": {
      "collapsed_sections": [],
      "name": "Prevendo Fadiga de Funcionários.ipynb",
      "provenance": []
    },
    "interpreter": {
      "hash": "af573f283834de0d94267a2f349eb6a57bfc80fc16df6f4176b3eb1c7a5367fc"
    },
    "kernelspec": {
      "name": "python3",
      "display_name": "Python 3.8.8 64-bit ('base': conda)"
    },
    "language_info": {
      "codemirror_mode": {
        "name": "ipython",
        "version": 3
      },
      "file_extension": ".py",
      "mimetype": "text/x-python",
      "name": "python",
      "nbconvert_exporter": "python",
      "pygments_lexer": "ipython3",
      "version": "3.8.8"
    }
  },
  "nbformat": 4,
  "nbformat_minor": 2
}